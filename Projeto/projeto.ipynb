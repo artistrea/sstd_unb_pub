{
 "cells": [
  {
   "cell_type": "code",
   "execution_count": 22,
   "metadata": {
    "scrolled": false
   },
   "outputs": [],
   "source": [
    "import numpy as np\n",
    "import scipy as sp\n",
    "from matplotlib import pyplot as plt\n"
   ]
  },
  {
   "attachments": {},
   "cell_type": "markdown",
   "metadata": {},
   "source": [
    "# Projeto 4 - Sinais e Sistemas em Tempo Discreto - 2023/01\n",
    "# Identificação\n",
    "## Nome: \n",
    "## Matrícula: "
   ]
  },
  {
   "attachments": {},
   "cell_type": "markdown",
   "metadata": {},
   "source": [
    "# Funções utilizadas.\n",
    "\n",
    "Somente podem ser utilizadas as bibliotecas presentes aqui para leitura de arquivos, manipulação básica de matrizes e vetores, e plotagem de gráficos. Não é permitido utilizar funções de processamento de sinais das bibliotecas.\n",
    "\n",
    "Coloque abaixo as funções de processamento de sinais desenvolvidas para este projeto."
   ]
  },
  {
   "cell_type": "code",
   "execution_count": 23,
   "metadata": {
    "scrolled": false
   },
   "outputs": [],
   "source": [
    "#Código das funções utilizadas.\n",
    "def DFT():\n",
    "    return\n",
    "\n",
    "def IDFT():\n",
    "    return\n",
    "\n",
    "#...\n"
   ]
  },
  {
   "attachments": {},
   "cell_type": "markdown",
   "metadata": {},
   "source": [
    "# Questão 1\n",
    "\n",
    "Considere um sinal $x\\left[n\\right]$ com 16 amostras:\n",
    "\n",
    "$$\n",
    "x\\left[n\\right] = \\left\\{ 1, 2, 3, 4, 5, 6, 7, 8, 8, 7, 6, 5, 4, 3, 2, 1\\right\\}\n",
    "$$\n"
   ]
  },
  {
   "attachments": {},
   "cell_type": "markdown",
   "metadata": {},
   "source": [
    "## Questão 1a\n",
    "\n",
    "Calcule a DFT do sinal através da equação:\n",
    "\n",
    "$$\n",
    "X\\left[k\\right] = \\sum_{n = 0}^{N-1} x\\left[n\\right] W_{N}^{kn}\n",
    "$$\n",
    "\n",
    "com $W_{N} = e^{-j\\frac{2 \\pi}{N}}$."
   ]
  },
  {
   "cell_type": "code",
   "execution_count": 24,
   "metadata": {},
   "outputs": [],
   "source": [
    "#Resposta da questão 1a\n",
    "x = np.array([\n",
    "    # ...\n",
    "])\n",
    "\n",
    "# Faça a DFT funcionar:\n",
    "X = DFT(\n",
    "    # x,\n",
    "    # ...\n",
    ")\n",
    "\n",
    "\n",
    "\n"
   ]
  },
  {
   "attachments": {},
   "cell_type": "markdown",
   "metadata": {},
   "source": [
    "## Questão 1b\n",
    "\n",
    "Considere a separação do sinal $x\\left[n\\right]$ em suas amostras pares e ímpares, $x_e\\left[n\\right]$ e $x_o\\left[n\\right]$, respectivamente. \n",
    "\n",
    "Calcule a DFT do sinal $x\\left[n\\right]$ através da equação:\n",
    "\n",
    "$$\n",
    "\\hat{X}\\left[k\\right] = X_e\\left[k\\right] + W_{N}^{k} X_o\\left[k\\right]\n",
    "$$\n",
    "\n",
    "Compare as duas DFTs e calcule o erro médio absoluto (MAE) entre as DFTs calculadas pelas duas formas:\n",
    "\n",
    "$$\n",
    "MAE = \\sum_{i = 0}^{N-1} \\left| X\\left[i\\right] - \\hat{X}\\left[i\\right]\\right|\n",
    "$$"
   ]
  },
  {
   "cell_type": "code",
   "execution_count": 25,
   "metadata": {},
   "outputs": [],
   "source": [
    "#Resposta da questão 1b\n"
   ]
  },
  {
   "cell_type": "markdown",
   "metadata": {},
   "source": [
    "## Questão 1c\n",
    "\n",
    "Agora faça o algoritmo de FFT usando a função criada na questão 1b. Ou seja, no lugar de fazer a DFT de cada subconjunto, faça a FFT de cada subconjunto (recursivamente). Calcule a o erro médio absoluto (MAE) e compare o resultado com o da questão 1b."
   ]
  },
  {
   "cell_type": "code",
   "execution_count": null,
   "metadata": {},
   "outputs": [],
   "source": [
    "#Resposta da questão 1c\n"
   ]
  },
  {
   "cell_type": "markdown",
   "metadata": {},
   "source": [
    "# Questão 2\n",
    "\n",
    "Considere os sinais $x_1\\left[n\\right] = \\sin[n \\pi/10]$ e $x_2\\left[n\\right] = \\dfrac{1}{2} e^{jn\\pi/10}$."
   ]
  },
  {
   "cell_type": "markdown",
   "metadata": {},
   "source": [
    "## Questão 2a\n",
    "Calcule a DFT desses sinais usando a mesma função usada na questão anterior, selecionando um $N$ adequado. Plote os gráficos de magnitude de $X_1$ e $X_2$, então explique a semelhança entre os dois sinais."
   ]
  },
  {
   "cell_type": "code",
   "execution_count": null,
   "metadata": {},
   "outputs": [],
   "source": [
    "# O código abaixo é apenas um exemplo. Pode considerar ou ignorá-lo para resolver a questão\n",
    "\n",
    "N = 2\n",
    "\n",
    "n = np.arange(N)\n",
    "x1 = np.sin(n * np.pi)\n",
    "\n",
    "X1 = DFT(\n",
    "    # ...\n",
    ")\n",
    "X1_abs = abs(X1)\n",
    "\n",
    "plt.scatter(n, X1_abs)\n",
    "plt.title('Resposta em Frequência de $X_1$($\\Omega$)')\n",
    "plt.xlabel('Frequência angular $\\Omega$')\n",
    "plt.ylabel('Magnitude')\n",
    "\n",
    "plt.show()\n",
    "\n",
    "# X2 ..."
   ]
  },
  {
   "cell_type": "markdown",
   "metadata": {},
   "source": [
    "## Questão 2b\n",
    "\n",
    "Perceba que, num protocolo de comunicação com frequências pré-definidas, não necessariamente precisamos realizar processamento do sinal em todas as frequências. Crie uma DFT que calcule apenas as frequências $k = 1,\\ 19$ e plote os gráficos de magnitude de $X_1$ e $X_2$. Compare com os gráficos da letra anterior. Alguma informação se perdeu?"
   ]
  },
  {
   "cell_type": "code",
   "execution_count": null,
   "metadata": {},
   "outputs": [],
   "source": [
    "# Resposta da questão 2b"
   ]
  },
  {
   "cell_type": "markdown",
   "metadata": {},
   "source": [
    "# Questão 3\n",
    "\n",
    "O teclado de um touch-fone usa sinais de diferentes frequências para especificar quais botões foram pressionados. O teclado tem 12 botões, em um arranjo de quatro linhas e três colunas. Quando um botão é pressionado um sinal é gerado pela soma de dois tons senoidais com frequências diferentes. A frequência mais alta indica a coluna da tecla pressionada, enquanto a menor frequência indica a linha da tecla pressionada. As frequências são geradas de acordo com a tabela:\n",
    "\n",
    "| | | Coluna | |\n",
    "| :-: | :-: | :-: | :-: |\n",
    "| Linha | 1209 Hz | 1336 Hz | 1477 Hz |\n",
    "| 697 Hz | 1 | 2 | 3 |\n",
    "| 770 Hz | 4 | 5 | 6 |\n",
    "| 852 Hz | 7 | 8 | 9 |\n",
    "| 940 Hz | | 0 | |\n",
    "\n",
    "A frequência de amostragem é de 8192 Hz, e o som de cada tecla dura um segundo. Escreva um programa que decodifique, de forma automática, um sinal composto por um número de telefone gerado com essas características. Teste o seu programa com os sinais encontrados no arquivo \"touch_fone.mat\".\n",
    "\n",
    "Obs: o filtro não precisa ser uma função matemática, mas pode ser. Faça da maneira que preferir."
   ]
  },
  {
   "cell_type": "code",
   "execution_count": null,
   "metadata": {},
   "outputs": [],
   "source": [
    "sinal1 = sp.io.loadmat('touch_fone.mat')['x'].ravel()\n",
    "sinal2 = sp.io.loadmat('touch_fone.mat')['y'].ravel()\n",
    "sinal3 = sp.io.loadmat('touch_fone.mat')['z'].ravel()\n",
    "\n",
    "# Dica: considere as ideias dadas pela questão 2b para resolver a questão 3\n",
    "\n",
    "# Resposta da questão 3:\n",
    "\n",
    "print(\n",
    "    \"sinal 1 decodificado: \", \n",
    "    # ...\n",
    ")\n",
    "print(\n",
    "    \"sinal 2 decodificado: \", \n",
    "    # ...\n",
    ")\n",
    "print(\n",
    "    \"sinal 3 decodificado: \", \n",
    "    # ...\n",
    ")\n",
    "\n"
   ]
  }
 ],
 "metadata": {
  "kernelspec": {
   "display_name": "Python 3 (ipykernel)",
   "language": "python",
   "name": "python3"
  },
  "language_info": {
   "codemirror_mode": {
    "name": "ipython",
    "version": 3
   },
   "file_extension": ".py",
   "mimetype": "text/x-python",
   "name": "python",
   "nbconvert_exporter": "python",
   "pygments_lexer": "ipython3",
   "version": "3.8.10"
  },
  "vscode": {
   "interpreter": {
    "hash": "916dbcbb3f70747c44a77c7bcd40155683ae19c65e1c03b4aa3499c5328201f1"
   }
  }
 },
 "nbformat": 4,
 "nbformat_minor": 2
}
